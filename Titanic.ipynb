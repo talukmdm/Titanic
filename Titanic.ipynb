{
 "cells": [
  {
   "cell_type": "code",
   "execution_count": null,
   "metadata": {},
   "outputs": [],
   "source": [
    "options(digit=3)"
   ]
  },
  {
   "cell_type": "code",
   "execution_count": null,
   "metadata": {},
   "outputs": [],
   "source": [
    "library(tidyverse)\n",
    "library(titanic)\n"
   ]
  },
  {
   "cell_type": "code",
   "execution_count": null,
   "metadata": {},
   "outputs": [],
   "source": [
    "titanic <- titanic_train %>%\n",
    "    select(Survived, Pclass, Sex, Age, SibSp, Parch, Fare) %>%\n",
    "    mutate(Survived = factor(Survived),\n",
    "           Pclass = factor(Pclass),\n",
    "           Sex = factor(Sex))"
   ]
  },
  {
   "cell_type": "code",
   "execution_count": null,
   "metadata": {},
   "outputs": [],
   "source": [
    "titanic %>% filter(!is.na(Age))%>%ggplot(aes(Age,fill=Sex))+geom_density(alpha=0.2)"
   ]
  },
  {
   "cell_type": "code",
   "execution_count": null,
   "metadata": {
    "scrolled": true
   },
   "outputs": [],
   "source": [
    "t1<-titanic %>% filter((Sex==\"male\")& !is.na(Age)) %>% select(Age) %>% ungroup()\n",
    "avg<-mean(t1$Age)\n",
    "st<-sd(t1$Age)\n",
    "pnorm"
   ]
  },
  {
   "cell_type": "code",
   "execution_count": null,
   "metadata": {
    "scrolled": true
   },
   "outputs": [],
   "source": [
    "params1<-titanic %>% filter(!is.na(Age)) %>% summarise(mean=mean(Age),sd=sd(Age))\n"
   ]
  },
  {
   "cell_type": "code",
   "execution_count": null,
   "metadata": {
    "scrolled": true
   },
   "outputs": [],
   "source": [
    "titanic %>% filter(!is.na(Age))%>% ggplot(aes(sample=Age))+geom_qq(dparams=params)+geom_abline()"
   ]
  },
  {
   "cell_type": "code",
   "execution_count": null,
   "metadata": {
    "scrolled": true
   },
   "outputs": [],
   "source": [
    "titanic %>% ggplot(aes(Survived,fill=Sex))+geom_bar(position = position_dodge())"
   ]
  },
  {
   "cell_type": "code",
   "execution_count": null,
   "metadata": {},
   "outputs": [],
   "source": [
    "titanic %>% ggplot(aes(Age,fill=Survived))+geom_density(alpha=0.2)"
   ]
  },
  {
   "cell_type": "code",
   "execution_count": null,
   "metadata": {},
   "outputs": [],
   "source": [
    "print(params)\n",
    "params <- titanic %>%\n",
    "    filter(!is.na(Age)) %>%\n",
    "    summarize(mean = mean(Age), sd = sd(Age))"
   ]
  },
  {
   "cell_type": "code",
   "execution_count": null,
   "metadata": {},
   "outputs": [],
   "source": [
    "params\n",
    "params1"
   ]
  },
  {
   "cell_type": "code",
   "execution_count": null,
   "metadata": {},
   "outputs": [],
   "source": [
    "data(titanic)"
   ]
  },
  {
   "cell_type": "code",
   "execution_count": null,
   "metadata": {
    "scrolled": true
   },
   "outputs": [],
   "source": [
    "titanic"
   ]
  },
  {
   "cell_type": "code",
   "execution_count": null,
   "metadata": {
    "scrolled": false
   },
   "outputs": [],
   "source": [
    "titanic %>% filter(Fare !=0) %>% ggplot(aes(Survived,Fare))+\n",
    "geom_boxplot()+scale_y_continuous(trans=\"log2\")"
   ]
  },
  {
   "cell_type": "code",
   "execution_count": null,
   "metadata": {},
   "outputs": [],
   "source": [
    "head(titanic)"
   ]
  },
  {
   "cell_type": "code",
   "execution_count": null,
   "metadata": {},
   "outputs": [],
   "source": [
    "titanic %>% ggplot(aes(Pclass,fill=Survived))+geom_bar(position=position_dodge())"
   ]
  },
  {
   "cell_type": "code",
   "execution_count": null,
   "metadata": {},
   "outputs": [],
   "source": [
    "titanic %>% ggplot(aes(Pclass,fill=Survived))+geom_bar(position=position_fill())"
   ]
  },
  {
   "cell_type": "code",
   "execution_count": null,
   "metadata": {},
   "outputs": [],
   "source": [
    "titanic %>% ggplot(aes(Survived,fill=Pclass))+geom_bar(position=position_fill())"
   ]
  },
  {
   "cell_type": "code",
   "execution_count": null,
   "metadata": {
    "scrolled": false
   },
   "outputs": [],
   "source": [
    "titanic %>% filter(!is.na(Age)) %>% ggplot(aes(Age,fill=Survived))+geom_density(position=\"stack\")+\n",
    "facet_grid(Sex~Pclass)"
   ]
  },
  {
   "cell_type": "code",
   "execution_count": null,
   "metadata": {},
   "outputs": [],
   "source": []
  }
 ],
 "metadata": {
  "kernelspec": {
   "display_name": "R",
   "language": "R",
   "name": "ir"
  },
  "language_info": {
   "codemirror_mode": "r",
   "file_extension": ".r",
   "mimetype": "text/x-r-source",
   "name": "R",
   "pygments_lexer": "r",
   "version": "3.6.1"
  }
 },
 "nbformat": 4,
 "nbformat_minor": 2
}
